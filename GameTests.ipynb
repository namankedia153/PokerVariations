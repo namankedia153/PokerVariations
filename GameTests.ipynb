{
 "cells": [
  {
   "cell_type": "code",
   "execution_count": 7,
   "metadata": {},
   "outputs": [],
   "source": [
    "import GameClass"
   ]
  },
  {
   "cell_type": "code",
   "execution_count": 8,
   "metadata": {},
   "outputs": [
    {
     "name": "stdout",
     "output_type": "stream",
     "text": [
      "{'Palak': [], 'Naman': []}\n"
     ]
    }
   ],
   "source": [
    "g = GameClass.TexasHoldEm()\n",
    "\n",
    "g.addPlayer(\"Palak\")\n",
    "g.addPlayer(\"Naman\")\n",
    "\n",
    "print(g.players)"
   ]
  },
  {
   "cell_type": "code",
   "execution_count": 9,
   "metadata": {},
   "outputs": [
    {
     "name": "stdout",
     "output_type": "stream",
     "text": [
      "{'number': 1, 'suit': 0}\n",
      "{'number': 1, 'suit': 0}\n",
      "True\n",
      "True\n",
      "True\n"
     ]
    }
   ],
   "source": [
    "a = GameClass.Card(0,1)\n",
    "b = GameClass.Card(0,1)\n",
    "\n",
    "print(a.__dict__)\n",
    "print(b.__dict__)\n",
    "print(a.__dict__ == b.__dict__)\n",
    "print(isinstance(b, a.__class__))\n",
    "print(a == b)"
   ]
  },
  {
   "cell_type": "code",
   "execution_count": 10,
   "metadata": {},
   "outputs": [
    {
     "name": "stdout",
     "output_type": "stream",
     "text": [
      "[<GameClass.Player object at 0x7f846d074090>]\n",
      "Current Player Palak\n",
      "Current Card Six of Hearts\n",
      "Palak\n",
      "[<GameClass.Player object at 0x7f846d06f9d0>]\n",
      "Current Player Naman\n",
      "Current Card Four of Clubs\n",
      "Naman\n",
      "[<GameClass.Player object at 0x7f846d074090>]\n",
      "Current Player Palak\n",
      "Current Card Seven of Hearts\n",
      "Palak\n",
      "[<GameClass.Player object at 0x7f846d06f9d0>]\n",
      "Current Player Naman\n",
      "Current Card Seven of Spades\n",
      "Naman\n"
     ]
    }
   ],
   "source": [
    "g.resetGame()\n",
    "p = g.getPlayer(\"Palak\")\n",
    "g.dealHand()\n",
    "n = g.getPlayer(\"Naman\")\n"
   ]
  },
  {
   "cell_type": "code",
   "execution_count": 11,
   "metadata": {},
   "outputs": [
    {
     "name": "stdout",
     "output_type": "stream",
     "text": [
      "False\n"
     ]
    }
   ],
   "source": [
    "print(p == n)"
   ]
  },
  {
   "cell_type": "code",
   "execution_count": 12,
   "metadata": {},
   "outputs": [
    {
     "name": "stdout",
     "output_type": "stream",
     "text": [
      "[<GameClass.Card object at 0x7f846cf4d5d0>, <GameClass.Card object at 0x7f846cf4da10>]\n",
      "Six of Hearts\n",
      "Seven of Hearts\n",
      "Four of Clubs\n",
      "Seven of Spades\n"
     ]
    }
   ],
   "source": [
    "print(g.players[\"Palak\"])\n",
    "print(p.hand[0])\n",
    "print(p.hand[1])\n",
    "print(n.hand[0])\n",
    "print(n.hand[1])"
   ]
  },
  {
   "cell_type": "code",
   "execution_count": 13,
   "metadata": {},
   "outputs": [
    {
     "data": {
      "text/plain": [
       "{'Palak': [<GameClass.Card at 0x7f846cf4d5d0>,\n",
       "  <GameClass.Card at 0x7f846cf4da10>,\n",
       "  0],\n",
       " 'Naman': [<GameClass.Card at 0x7f846d05be90>,\n",
       "  <GameClass.Card at 0x7f846d06f850>]}"
      ]
     },
     "execution_count": 13,
     "metadata": {},
     "output_type": "execute_result"
    }
   ],
   "source": []
  }
 ],
 "metadata": {
  "kernelspec": {
   "display_name": "base",
   "language": "python",
   "name": "python3"
  },
  "language_info": {
   "codemirror_mode": {
    "name": "ipython",
    "version": 3
   },
   "file_extension": ".py",
   "mimetype": "text/x-python",
   "name": "python",
   "nbconvert_exporter": "python",
   "pygments_lexer": "ipython3",
   "version": "3.7.6"
  },
  "orig_nbformat": 4
 },
 "nbformat": 4,
 "nbformat_minor": 2
}

{
 "cells": [
  {
   "cell_type": "code",
   "execution_count": 10,
   "metadata": {},
   "outputs": [],
   "source": [
    "import GameClass\n",
    "from collections import Counter"
   ]
  },
  {
   "cell_type": "code",
   "execution_count": 2,
   "metadata": {},
   "outputs": [
    {
     "name": "stdout",
     "output_type": "stream",
     "text": [
      "{'Palak': [], 'Naman': []}\n"
     ]
    }
   ],
   "source": [
    "g = GameClass.TexasHoldEm()\n",
    "\n",
    "g.addPlayer(\"Palak\")\n",
    "g.addPlayer(\"Naman\")\n",
    "\n",
    "print(g.players)"
   ]
  },
  {
   "cell_type": "code",
   "execution_count": 3,
   "metadata": {},
   "outputs": [
    {
     "name": "stdout",
     "output_type": "stream",
     "text": [
      "{'number': 1, 'suit': 0}\n",
      "{'number': 1, 'suit': 0}\n",
      "True\n",
      "True\n",
      "True\n"
     ]
    }
   ],
   "source": [
    "a = GameClass.Card(0,1)\n",
    "b = GameClass.Card(0,1)\n",
    "\n",
    "print(a.__dict__)\n",
    "print(b.__dict__)\n",
    "print(a.__dict__ == b.__dict__)\n",
    "print(isinstance(b, a.__class__))\n",
    "print(a == b)"
   ]
  },
  {
   "cell_type": "code",
   "execution_count": 4,
   "metadata": {},
   "outputs": [
    {
     "name": "stdout",
     "output_type": "stream",
     "text": [
      "[<GameClass.Player object at 0x7f939264e7d0>]\n",
      "Current Player Palak\n",
      "Current Card Ace of Spades\n",
      "Palak\n",
      "[<GameClass.Player object at 0x7f939264e690>]\n",
      "Current Player Naman\n",
      "Current Card Jack of Diamonds\n",
      "Naman\n",
      "[<GameClass.Player object at 0x7f939264e7d0>]\n",
      "Current Player Palak\n",
      "Current Card Queen of Clubs\n",
      "Palak\n",
      "[<GameClass.Player object at 0x7f939264e690>]\n",
      "Current Player Naman\n",
      "Current Card Jack of Spades\n",
      "Naman\n"
     ]
    }
   ],
   "source": [
    "g.resetGame()\n",
    "p = g.getPlayer(\"Palak\")\n",
    "g.dealHand()\n",
    "n = g.getPlayer(\"Naman\")\n"
   ]
  },
  {
   "cell_type": "code",
   "execution_count": 5,
   "metadata": {},
   "outputs": [
    {
     "name": "stdout",
     "output_type": "stream",
     "text": [
      "False\n"
     ]
    }
   ],
   "source": [
    "print(p == n)"
   ]
  },
  {
   "cell_type": "code",
   "execution_count": 6,
   "metadata": {},
   "outputs": [
    {
     "name": "stdout",
     "output_type": "stream",
     "text": [
      "[<GameClass.Card object at 0x7f9392f17e90>, <GameClass.Card object at 0x7f9393912290>]\n",
      "Ace of Spades\n",
      "Queen of Clubs\n",
      "Jack of Diamonds\n",
      "Jack of Spades\n"
     ]
    }
   ],
   "source": [
    "print(g.players[\"Palak\"])\n",
    "print(p.hand[0])\n",
    "print(p.hand[1])\n",
    "print(n.hand[0])\n",
    "print(n.hand[1])"
   ]
  },
  {
   "cell_type": "code",
   "execution_count": 12,
   "metadata": {},
   "outputs": [
    {
     "data": {
      "text/plain": [
       "Counter({0: 1, 3: 1})"
      ]
     },
     "execution_count": 12,
     "metadata": {},
     "output_type": "execute_result"
    }
   ],
   "source": [
    "suits = [card.suit for card in p.hand]\n",
    "Counter(suits)"
   ]
  },
  {
   "cell_type": "code",
   "execution_count": 23,
   "metadata": {},
   "outputs": [
    {
     "data": {
      "text/plain": [
       "[]"
      ]
     },
     "execution_count": 23,
     "metadata": {},
     "output_type": "execute_result"
    }
   ],
   "source": [
    "x = [1,2,2,3,4,5]\n",
    "x[-1:-3]"
   ]
  }
 ],
 "metadata": {
  "kernelspec": {
   "display_name": "base",
   "language": "python",
   "name": "python3"
  },
  "language_info": {
   "codemirror_mode": {
    "name": "ipython",
    "version": 3
   },
   "file_extension": ".py",
   "mimetype": "text/x-python",
   "name": "python",
   "nbconvert_exporter": "python",
   "pygments_lexer": "ipython3",
   "version": "3.7.6"
  },
  "orig_nbformat": 4
 },
 "nbformat": 4,
 "nbformat_minor": 2
}

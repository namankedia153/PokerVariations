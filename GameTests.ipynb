{
 "cells": [
  {
   "cell_type": "code",
   "execution_count": 1,
   "metadata": {},
   "outputs": [],
   "source": [
    "import GameClass as GC\n",
    "from collections import Counter"
   ]
  },
  {
   "cell_type": "code",
   "execution_count": 2,
   "metadata": {},
   "outputs": [
    {
     "name": "stdout",
     "output_type": "stream",
     "text": [
      "{'Palak': [], 'Naman': []}\n"
     ]
    }
   ],
   "source": [
    "g = GC.TexasHoldEm()\n",
    "\n",
    "g.addPlayer(\"Palak\")\n",
    "g.addPlayer(\"Naman\")\n",
    "\n",
    "print(g.players)"
   ]
  },
  {
   "cell_type": "code",
   "execution_count": 3,
   "metadata": {},
   "outputs": [
    {
     "name": "stdout",
     "output_type": "stream",
     "text": [
      "{'number': 1, 'suit': 0}\n",
      "{'number': 1, 'suit': 0}\n",
      "True\n",
      "True\n",
      "True\n"
     ]
    }
   ],
   "source": [
    "a = GC.Card(0,1)\n",
    "b = GC.Card(0,1)\n",
    "\n",
    "print(a.__dict__)\n",
    "print(b.__dict__)\n",
    "print(a.__dict__ == b.__dict__)\n",
    "print(isinstance(b, a.__class__))\n",
    "print(a == b)"
   ]
  },
  {
   "cell_type": "code",
   "execution_count": 4,
   "metadata": {},
   "outputs": [
    {
     "name": "stdout",
     "output_type": "stream",
     "text": [
      "[<GameClass.Player object at 0x7f934252db50>]\n",
      "Current Player Palak\n",
      "Current Card Four of Clubs\n",
      "Palak\n",
      "[<GameClass.Player object at 0x7f934277cb90>]\n",
      "Current Player Naman\n",
      "Current Card Three of Diamonds\n",
      "Naman\n",
      "[<GameClass.Player object at 0x7f934252db50>]\n",
      "Current Player Palak\n",
      "Current Card Four of Diamonds\n",
      "Palak\n",
      "[<GameClass.Player object at 0x7f934277cb90>]\n",
      "Current Player Naman\n",
      "Current Card Jack of Spades\n",
      "Naman\n"
     ]
    }
   ],
   "source": [
    "g.resetGame()\n",
    "p = g.getPlayer(\"Palak\")\n",
    "g.dealHand()\n",
    "n = g.getPlayer(\"Naman\")\n"
   ]
  },
  {
   "cell_type": "code",
   "execution_count": 5,
   "metadata": {},
   "outputs": [
    {
     "name": "stdout",
     "output_type": "stream",
     "text": [
      "False\n"
     ]
    }
   ],
   "source": [
    "print(p == n)"
   ]
  },
  {
   "cell_type": "code",
   "execution_count": 6,
   "metadata": {},
   "outputs": [
    {
     "name": "stdout",
     "output_type": "stream",
     "text": [
      "[<GameClass.Card object at 0x7f9342901610>, <GameClass.Card object at 0x7f9342901310>]\n",
      "Four of Clubs\n",
      "Four of Diamonds\n",
      "Three of Diamonds\n",
      "Jack of Spades\n"
     ]
    }
   ],
   "source": [
    "print(g.players[\"Palak\"])\n",
    "print(p.hand[0])\n",
    "print(p.hand[1])\n",
    "print(n.hand[0])\n",
    "print(n.hand[1])"
   ]
  },
  {
   "cell_type": "code",
   "execution_count": 7,
   "metadata": {},
   "outputs": [
    {
     "data": {
      "text/plain": [
       "Counter({3: 1, 2: 1})"
      ]
     },
     "execution_count": 7,
     "metadata": {},
     "output_type": "execute_result"
    }
   ],
   "source": [
    "suits = [card.suit for card in p.hand]\n",
    "Counter(suits)"
   ]
  },
  {
   "cell_type": "code",
   "execution_count": 8,
   "metadata": {},
   "outputs": [
    {
     "data": {
      "text/plain": [
       "[]"
      ]
     },
     "execution_count": 8,
     "metadata": {},
     "output_type": "execute_result"
    }
   ],
   "source": [
    "x = [1,2,2,3,4,5]\n",
    "x[-1:-3]"
   ]
  },
  {
   "cell_type": "code",
   "execution_count": 9,
   "metadata": {},
   "outputs": [
    {
     "data": {
      "text/plain": [
       "1"
      ]
     },
     "execution_count": 9,
     "metadata": {},
     "output_type": "execute_result"
    }
   ],
   "source": [
    "x = [2]\n",
    "x[-1] - 1"
   ]
  },
  {
   "cell_type": "code",
   "execution_count": 12,
   "metadata": {},
   "outputs": [
    {
     "name": "stdout",
     "output_type": "stream",
     "text": [
      "[1, 13, 12, 11, 10]\n",
      "Card Index: -3\n",
      "Straight Index: 0\n",
      "[13, 12, 11, 10, 9]\n",
      "Card Index: 0\n",
      "Straight Index: 0\n",
      "Card Index: 1\n",
      "Straight Index: 1\n",
      "[12, 11, 10, 9, 8]\n",
      "Card Index: 0\n",
      "Straight Index: 0\n"
     ]
    },
    {
     "data": {
      "text/plain": [
       "(False, None)"
      ]
     },
     "execution_count": 12,
     "metadata": {},
     "output_type": "execute_result"
    }
   ],
   "source": [
    "hand = [GC.Card(1,13), GC.Card(3,12), GC.Card(1,11), GC.Card(1,10), GC.Card(1,9), GC.Card(1,8), GC.Card(2,1)]\n",
    "suits = [card.suit for card in hand]\n",
    "suitCounter = Counter(suits)\n",
    "g.checkStraightFlush(g.isSeq(hand), hand, suitCounter)"
   ]
  }
 ],
 "metadata": {
  "kernelspec": {
   "display_name": "base",
   "language": "python",
   "name": "python3"
  },
  "language_info": {
   "codemirror_mode": {
    "name": "ipython",
    "version": 3
   },
   "file_extension": ".py",
   "mimetype": "text/x-python",
   "name": "python",
   "nbconvert_exporter": "python",
   "pygments_lexer": "ipython3",
   "version": "3.7.6"
  },
  "orig_nbformat": 4
 },
 "nbformat": 4,
 "nbformat_minor": 2
}
